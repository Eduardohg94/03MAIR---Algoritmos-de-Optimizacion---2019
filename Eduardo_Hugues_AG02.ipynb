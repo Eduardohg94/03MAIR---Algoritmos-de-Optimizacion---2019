{
  "nbformat": 4,
  "nbformat_minor": 0,
  "metadata": {
    "colab": {
      "name": "Eduardo Hugues-AG02.ipynb",
      "provenance": [],
      "include_colab_link": true
    },
    "kernelspec": {
      "name": "python3",
      "display_name": "Python 3"
    }
  },
  "cells": [
    {
      "cell_type": "markdown",
      "metadata": {
        "id": "view-in-github",
        "colab_type": "text"
      },
      "source": [
        "<a href=\"https://colab.research.google.com/github/Eduardohg94/03MAIR---Algoritmos-de-Optimizacion---2019/blob/master/Eduardo_Hugues_AG02.ipynb\" target=\"_parent\"><img src=\"https://colab.research.google.com/assets/colab-badge.svg\" alt=\"Open In Colab\"/></a>"
      ]
    },
    {
      "cell_type": "code",
      "metadata": {
        "id": "Xa90-F4iw2RJ",
        "colab_type": "code",
        "colab": {}
      },
      "source": [
        "8#Nombre: Eduardo Hugues\n",
        "\n",
        "#URL: https://colab.research.google.com/drive/1qh3KgiPONEZzL0ZogmXzSHrD84wFwOBe\n",
        "\n",
        "#URL: "
      ],
      "execution_count": 0,
      "outputs": []
    },
    {
      "cell_type": "code",
      "metadata": {
        "id": "Q3qMxP5Iw4lC",
        "colab_type": "code",
        "colab": {}
      },
      "source": [
        "#Viaje por el río. Programación Dinámica"
      ],
      "execution_count": 0,
      "outputs": []
    },
    {
      "cell_type": "code",
      "metadata": {
        "id": "msJPi3aLgITU",
        "colab_type": "code",
        "colab": {}
      },
      "source": [
        "#TARIFAS = [\n",
        "#[0,5,4,3,999,999,999],\n",
        "#[999,0,999,2,3,999,11],\n",
        "#[999,999, 0,1,999,4,10],\n",
        "#[999,999,999, 0,5,6,9],\n",
        "#[999,999, 999,999,0,999,4],\n",
        "#[999,999, 999,999,999,0,3],\n",
        "#[999,999,999,999,999,999,0]\n",
        "#]\n",
        "\n",
        "import numpy as np\n",
        "import random\n",
        "\n",
        "#Definimos una función para crear un grafo aleatorio\n",
        "def crear_T(n):\n",
        "  TARIFAS= np.random.rand(n,n)\n",
        "  for i in range(0,n):\n",
        "    for j in range(0,n):\n",
        "      if i == j:\n",
        "        TARIFAS[i,j] = 0\n",
        "      else:\n",
        "        if TARIFAS[i,j] <= .6 or abs(i-j)>6:\n",
        "          TARIFAS[i,j] = 999\n",
        "        else:\n",
        "          TARIFAS[i,j] = random.randint(0,50)\n",
        "  return TARIFAS  \n",
        "print(TARIFAS)\n",
        "TARIFAS = crear_T(20)"
      ],
      "execution_count": 0,
      "outputs": []
    },
    {
      "cell_type": "code",
      "metadata": {
        "id": "b651kV1oga0l",
        "colab_type": "code",
        "colab": {
          "base_uri": "https://localhost:8080/",
          "height": 87
        },
        "outputId": "dc85fb1a-f44d-416d-8f0c-4cb9037754f5"
      },
      "source": [
        "def Precios(TARIFAS):\n",
        "  N = len(TARIFAS[0])\n",
        "  \n",
        "  PRECIOS = [[9999]*N for i in [9999]*N]\n",
        "  RUTA = [ [\"\"]*N for i in [\"\"]*N ]\n",
        "  \n",
        "  for i in range(N-1):\n",
        "    for j in range(i+1,N):\n",
        "      MIN = TARIFAS[i][j]\n",
        "      RUTA[i][j] = i\n",
        "      \n",
        "      for k in range(i,j):\n",
        "        if PRECIOS[i][k] + TARIFAS[k][j]<MIN:\n",
        "          MIN = PRECIOS[i][k] + TARIFAS[k][j]\n",
        "          RUTA[i][j] = k\n",
        "      PRECIOS[i][j] = MIN\n",
        "    \n",
        "  return PRECIOS, RUTA\n",
        "\n",
        "PRECIOS,RUTA = Precios(TARIFAS)\n",
        "\n",
        "print(PRECIOS)\n",
        "print(RUTA)\n",
        "\n",
        "def calcular_ruta(RUTA, desde, hasta):\n",
        "  #Para mejorar la impresión del código se modificó la devolución del primer valor\n",
        "  if desde == hasta:\n",
        "    return \"La ruta óptima es\"\n",
        "  else:\n",
        "    return str(calcular_ruta(RUTA,desde,RUTA[desde][hasta])) + ' - ' + str (RUTA[desde][hasta])\n",
        "    \n",
        "calcular_ruta(RUTA,0,19)"
      ],
      "execution_count": 303,
      "outputs": [
        {
          "output_type": "stream",
          "text": [
            "[[9999, 999.0, 43.0, 999.0, 68.0, 999.0, 5.0, 999.0, 69.0, 51.0, 11.0, 23.0, 12.0, 26.0, 24.0, 29.0, 67.0, 47.0, 34.0, 44.0], [9999, 9999, 999.0, 40.0, 999.0, 42.0, 49.0, 22.0, 58.0, 95.0, 45.0, 57.0, 56.0, 70.0, 60.0, 73.0, 103.0, 83.0, 70.0, 88.0], [9999, 9999, 9999, 999.0, 25.0, 999.0, 999.0, 999.0, 26.0, 33.0, 999.0, 999.0, 999.0, 999.0, 28.0, 77.0, 71.0, 51.0, 38.0, 69.0], [9999, 9999, 9999, 9999, 999.0, 999.0, 999.0, 999.0, 18.0, 999.0, 999.0, 999.0, 999.0, 999.0, 20.0, 69.0, 63.0, 43.0, 30.0, 61.0], [9999, 9999, 9999, 9999, 9999, 999.0, 999.0, 999.0, 999.0, 8.0, 999.0, 999.0, 999.0, 999.0, 46.0, 95.0, 89.0, 69.0, 56.0, 87.0], [9999, 9999, 9999, 9999, 9999, 9999, 7.0, 48.0, 999.0, 53.0, 3.0, 15.0, 14.0, 28.0, 26.0, 31.0, 63.0, 49.0, 36.0, 46.0], [9999, 9999, 9999, 9999, 9999, 9999, 9999, 999.0, 999.0, 46.0, 6.0, 18.0, 7.0, 21.0, 19.0, 24.0, 62.0, 42.0, 29.0, 39.0], [9999, 9999, 9999, 9999, 9999, 9999, 9999, 9999, 999.0, 999.0, 34.0, 46.0, 999.0, 74.0, 999.0, 77.0, 94.0, 999.0, 102.0, 92.0], [9999, 9999, 9999, 9999, 9999, 9999, 9999, 9999, 9999, 999.0, 999.0, 999.0, 999.0, 999.0, 2.0, 51.0, 45.0, 25.0, 12.0, 43.0], [9999, 9999, 9999, 9999, 9999, 9999, 9999, 9999, 9999, 9999, 999.0, 999.0, 999.0, 999.0, 38.0, 87.0, 81.0, 61.0, 48.0, 79.0], [9999, 9999, 9999, 9999, 9999, 9999, 9999, 9999, 9999, 9999, 9999, 12.0, 999.0, 40.0, 999.0, 43.0, 60.0, 999.0, 68.0, 58.0], [9999, 9999, 9999, 9999, 9999, 9999, 9999, 9999, 9999, 9999, 9999, 9999, 999.0, 28.0, 999.0, 31.0, 48.0, 999.0, 56.0, 46.0], [9999, 9999, 9999, 9999, 9999, 9999, 9999, 9999, 9999, 9999, 9999, 9999, 9999, 14.0, 12.0, 17.0, 55.0, 35.0, 22.0, 32.0], [9999, 9999, 9999, 9999, 9999, 9999, 9999, 9999, 9999, 9999, 9999, 9999, 9999, 9999, 999.0, 3.0, 43.0, 999.0, 28.0, 18.0], [9999, 9999, 9999, 9999, 9999, 9999, 9999, 9999, 9999, 9999, 9999, 9999, 9999, 9999, 9999, 49.0, 43.0, 23.0, 10.0, 41.0], [9999, 9999, 9999, 9999, 9999, 9999, 9999, 9999, 9999, 9999, 9999, 9999, 9999, 9999, 9999, 9999, 999.0, 999.0, 25.0, 15.0], [9999, 9999, 9999, 9999, 9999, 9999, 9999, 9999, 9999, 9999, 9999, 9999, 9999, 9999, 9999, 9999, 9999, 999.0, 999.0, 999.0], [9999, 9999, 9999, 9999, 9999, 9999, 9999, 9999, 9999, 9999, 9999, 9999, 9999, 9999, 9999, 9999, 9999, 9999, 999.0, 24.0], [9999, 9999, 9999, 9999, 9999, 9999, 9999, 9999, 9999, 9999, 9999, 9999, 9999, 9999, 9999, 9999, 9999, 9999, 9999, 999.0], [9999, 9999, 9999, 9999, 9999, 9999, 9999, 9999, 9999, 9999, 9999, 9999, 9999, 9999, 9999, 9999, 9999, 9999, 9999, 9999]]\n",
            "[['', 0, 0, 0, 2, 0, 0, 0, 2, 6, 6, 10, 6, 12, 12, 13, 14, 14, 14, 15], ['', '', 1, 1, 1, 1, 5, 1, 3, 6, 5, 10, 6, 12, 8, 13, 14, 14, 14, 15], ['', '', '', 2, 2, 2, 2, 2, 2, 4, 2, 2, 2, 2, 8, 14, 14, 14, 14, 14], ['', '', '', '', 3, 3, 3, 3, 3, 3, 3, 3, 3, 3, 8, 14, 14, 14, 14, 14], ['', '', '', '', '', 4, 4, 4, 4, 4, 4, 4, 4, 4, 9, 14, 14, 14, 14, 14], ['', '', '', '', '', '', 5, 5, 5, 6, 5, 10, 6, 12, 12, 13, 11, 14, 14, 15], ['', '', '', '', '', '', '', 6, 6, 6, 6, 10, 6, 12, 12, 13, 14, 14, 14, 15], ['', '', '', '', '', '', '', '', 7, 7, 7, 10, 7, 11, 7, 13, 11, 7, 15, 15], ['', '', '', '', '', '', '', '', '', 8, 8, 8, 8, 8, 8, 14, 14, 14, 14, 14], ['', '', '', '', '', '', '', '', '', '', 9, 9, 9, 9, 9, 14, 14, 14, 14, 14], ['', '', '', '', '', '', '', '', '', '', '', 10, 10, 11, 10, 13, 11, 10, 15, 15], ['', '', '', '', '', '', '', '', '', '', '', '', 11, 11, 11, 13, 11, 11, 15, 15], ['', '', '', '', '', '', '', '', '', '', '', '', '', 12, 12, 13, 14, 14, 14, 15], ['', '', '', '', '', '', '', '', '', '', '', '', '', '', 13, 13, 13, 13, 15, 15], ['', '', '', '', '', '', '', '', '', '', '', '', '', '', '', 14, 14, 14, 14, 14], ['', '', '', '', '', '', '', '', '', '', '', '', '', '', '', '', 15, 15, 15, 15], ['', '', '', '', '', '', '', '', '', '', '', '', '', '', '', '', '', 16, 16, 16], ['', '', '', '', '', '', '', '', '', '', '', '', '', '', '', '', '', '', 17, 17], ['', '', '', '', '', '', '', '', '', '', '', '', '', '', '', '', '', '', '', 18], ['', '', '', '', '', '', '', '', '', '', '', '', '', '', '', '', '', '', '', '']]\n"
          ],
          "name": "stdout"
        },
        {
          "output_type": "execute_result",
          "data": {
            "text/plain": [
              "'La ruta óptima es - 0 - 6 - 12 - 13 - 15'"
            ]
          },
          "metadata": {
            "tags": []
          },
          "execution_count": 303
        }
      ]
    },
    {
      "cell_type": "code",
      "metadata": {
        "id": "Oze7K14iw8IB",
        "colab_type": "code",
        "colab": {}
      },
      "source": [
        "import itertools\n",
        "from functools import wraps\n",
        "\n",
        "def calcular_tiempo(f):\n",
        "  @wraps(f)\n",
        "  def cronometro(*args, **kwargs):\n",
        "      t_inicial = time()\n",
        "      salida = f(*args, **kwargs)\n",
        "      t_final = time()\n",
        "      print('Tiempo transcurrido (en segundos): {}'.format(t_final - t_inicial))\n",
        "      return salida\n",
        "  return cronometro"
      ],
      "execution_count": 0,
      "outputs": []
    },
    {
      "cell_type": "code",
      "metadata": {
        "id": "EyVJZ04U33kJ",
        "colab_type": "code",
        "colab": {}
      },
      "source": [
        "#wraps nos permite utilizar los decoradores\n",
        "from functools import wraps\n",
        "#time nos permite utilizar el reloj del procesador que estamos utilizando\n",
        "from time import time\n",
        "\n",
        "def calcular_tiempo(f):\n",
        "  #indicamos que es un decorador con @\n",
        "  @wraps(f)\n",
        "  def cronometro(*args, **kwargs):\n",
        "    t_inicial = time()\n",
        "    salida = f(*args, **kwargs)\n",
        "    t_final = time()\n",
        "    print('Tiempo transcurrido (en segundos): {}'.format(t_final - t_inicial))\n",
        "    return salida\n",
        "  return cronometro"
      ],
      "execution_count": 0,
      "outputs": []
    },
    {
      "cell_type": "code",
      "metadata": {
        "id": "4BYqy-0Gw7TX",
        "colab_type": "code",
        "colab": {}
      },
      "source": [
        "#Asignación de Tareas"
      ],
      "execution_count": 0,
      "outputs": []
    },
    {
      "cell_type": "code",
      "metadata": {
        "id": "9aCMVI5dx1tQ",
        "colab_type": "code",
        "colab": {}
      },
      "source": [
        "#COSTOS = [[11,12,18,40],\n",
        "#         [14,15,13,22],\n",
        "#         [11,17,19,23],\n",
        "#         [17,14,29,28]]\n",
        "\n",
        "\n",
        "import numpy as np\n",
        "import random\n",
        "\n",
        "#Definimos una función para crear un grafo aleatorio\n",
        "def crear_T(n):\n",
        "  TARIFAS= np.random.rand(n,n)\n",
        "  for i in range(0,n):\n",
        "    for j in range(0,n):\n",
        "          TARIFAS[i,j] = random.randint(0,50)\n",
        "  return TARIFAS  \n",
        "COSTOS = crear_T(20)"
      ],
      "execution_count": 0,
      "outputs": []
    },
    {
      "cell_type": "code",
      "metadata": {
        "id": "c1XuTBrLyIft",
        "colab_type": "code",
        "colab": {
          "base_uri": "https://localhost:8080/",
          "height": 34
        },
        "outputId": "6d77208c-fa86-4c25-d15e-093d2fee15e5"
      },
      "source": [
        "def valor(S, COSTOS):\n",
        "  VALOR = 0\n",
        "  for i in range(len(S)):\n",
        "    VALOR += COSTOS[S[i]][i]\n",
        "  return VALOR\n",
        "\n",
        "valor((0,3,1,2), COSTOS)"
      ],
      "execution_count": 5,
      "outputs": [
        {
          "output_type": "execute_result",
          "data": {
            "text/plain": [
              "86.0"
            ]
          },
          "metadata": {
            "tags": []
          },
          "execution_count": 5
        }
      ]
    },
    {
      "cell_type": "code",
      "metadata": {
        "id": "QZW4D6dgzzTN",
        "colab_type": "code",
        "colab": {
          "base_uri": "https://localhost:8080/",
          "height": 34
        },
        "outputId": "cb0bd264-0876-4e36-b19d-e261840d79d2"
      },
      "source": [
        "#El algoritmo comenzó fallo al intentar correr una matriz de 12x12, la matriz de 11x11 si logró optimizarla\n",
        "def fuerza_bruta(COSTOS):\n",
        "  mejor_valor = 10e10\n",
        "  mejor_solucion = ''\n",
        "  \n",
        "  for S in list(itertools.permutations(range(len(COSTOS)))):\n",
        "    valor_temp = valor(S, COSTOS)\n",
        "    if valor_temp < mejor_valor:\n",
        "      mejor_solucion = S\n",
        "      mejor_valor = valor_temp\n",
        "  print(\"La mejor solución es:\", mejor_solucion)\n",
        "\n",
        "fuerza_bruta(COSTOS)"
      ],
      "execution_count": 4,
      "outputs": [
        {
          "output_type": "stream",
          "text": [
            "La mejor solución es: (5, 4, 3, 8, 10, 0, 2, 7, 6, 9, 1)\n"
          ],
          "name": "stdout"
        }
      ]
    },
    {
      "cell_type": "code",
      "metadata": {
        "id": "WaSYV8480dZi",
        "colab_type": "code",
        "colab": {
          "base_uri": "https://localhost:8080/",
          "height": 34
        },
        "outputId": "f4db1fb5-fad9-4b88-8fee-f5bb5b109d43"
      },
      "source": [
        "#Costo Inferior\n",
        "def CI(S,COSTOS):\n",
        "  VALOR = 0\n",
        "  for i in range(len(S)):\n",
        "    VALOR += COSTOS[i][S[i]]\n",
        "\n",
        "  #Estimaciones\n",
        "  for i in range(len(COSTOS)):\n",
        "    if i not in S:\n",
        "      VALOR += min([COSTOS[j][i]for j in range(len(S), len(COSTOS))])\n",
        "  return VALOR\n",
        "\n",
        "def crear_hijos(NODO, N):\n",
        "  HIJOS = []\n",
        "  for i in range(N):\n",
        "    if i not in NODO:\n",
        "      HIJOS.append({'s': NODO+(i,)})\n",
        "      \n",
        "  return HIJOS\n",
        "\n",
        "crear_hijos((0,2), 4)"
      ],
      "execution_count": 6,
      "outputs": [
        {
          "output_type": "execute_result",
          "data": {
            "text/plain": [
              "[{'s': (0, 2, 1)}, {'s': (0, 2, 3)}]"
            ]
          },
          "metadata": {
            "tags": []
          },
          "execution_count": 6
        }
      ]
    },
    {
      "cell_type": "code",
      "metadata": {
        "id": "NqpCDi4o5E5H",
        "colab_type": "code",
        "colab": {
          "base_uri": "https://localhost:8080/",
          "height": 84
        },
        "outputId": "7f7956ec-dad6-4468-bdbb-a75f7b9afeac"
      },
      "source": [
        "@calcular_tiempo\n",
        "def ramificacion_y_poda(COSTOS):\n",
        "  DIMENSION = len(COSTOS)\n",
        "  MEJOR_SOLUCION = tuple(i for i in range(DIMENSION))\n",
        "  \n",
        "  CotaSup = valor(MEJOR_SOLUCION, COSTOS)\n",
        "  \n",
        "  NODOS=[]\n",
        "  NODOS.append({'s':(), 'ci': CI((), COSTOS)})\n",
        "  NODOS.append({'s':(), 'ci': CI((), COSTOS)})\n",
        "  \n",
        "  iteracion = 0\n",
        "  \n",
        "  while (len(NODOS)> 0):\n",
        "    iteracion += 1\n",
        "    #print('\\n#', iteracion)\n",
        "    \n",
        "    nodo_prometedor = min(NODOS, key=lambda x:x['ci'])\n",
        "    \n",
        "    #creamos a los hijos\n",
        "    HIJOS = [{'s': x['s'], 'ci': CI(x['s'], COSTOS)} for x in crear_hijos(nodo_prometedor['s'], DIMENSION)]\n",
        "    \n",
        "    NODO_FINAL = [x for x in HIJOS if len(x['s']) == DIMENSION]\n",
        "    if len(NODO_FINAL) > 0:\n",
        "      if NODO_FINAL[0]['ci'] < CotaSup:\n",
        "        CotaSup = NODO_FINAL[0]['ci']\n",
        "        MEJOR_SOLUCION = NODO_FINAL[0]\n",
        "    \n",
        "    #Poda\n",
        "    HIJOS = [x for x in HIJOS if x['ci'] < CotaSup]\n",
        "    \n",
        "    #print(nodo_prometedor)\n",
        "    #Eliminamos el nodo expandido\n",
        "    NODOS = [x for x in NODOS if x['s']!= nodo_prometedor['s']]\n",
        "    \n",
        "    #Añadimos hijos a la lista de nodos pendientes de analizar\n",
        "    NODOS.extend(HIJOS)\n",
        "  \n",
        "  print(\"La mejor solucion \", MEJOR_SOLUCION, \"para una matriz de (\",DIMENSION,\"x\",DIMENSION,\")\")\n",
        "  \n",
        "for i in range(18,21):\n",
        "  COSTOS = crear_T(i)\n",
        "  ramificacion_y_poda(COSTOS)"
      ],
      "execution_count": 21,
      "outputs": [
        {
          "output_type": "stream",
          "text": [
            "La mejor solucion  {'s': (12, 5, 7, 0, 10, 11, 4, 16, 2, 1, 8, 15, 13, 3, 17, 6, 14, 9), 'ci': 44.0} para una matriz de ( 18 x 18 )\n",
            "Tiempo transcurrido (en segundos): 329.3745279312134\n",
            "La mejor solucion  {'s': (6, 14, 7, 15, 3, 11, 12, 9, 0, 18, 16, 8, 1, 17, 4, 10, 2, 13, 5), 'ci': 77.0} para una matriz de ( 19 x 19 )\n",
            "Tiempo transcurrido (en segundos): 2262.6400876045227\n"
          ],
          "name": "stdout"
        }
      ]
    },
    {
      "cell_type": "markdown",
      "metadata": {
        "id": "QI7n8-p11J5L",
        "colab_type": "text"
      },
      "source": [
        "##ANÁLISIS PARA MEJORAR LA NOTA:\n",
        "####-¿Qué complejidad tiene el algoritmo de fuerza bruta?\n",
        "R: El algoritmo de fuerza bruta tiene una complejidad logarítmica\n",
        "####-Generar matrices con valores aleatorios de mayores dimensiones y ejecutar en ambos algoritmos\n",
        "R: Se generó una función \"crear_T(n)\" con la cual se generan, de manera aleatoria, matrices (n x n) para la prueba de los algoritmos. Además se generó un loop en ambos para, en ambos algoritmos iterar diferentes valores de n.\n",
        "####-¿A partir de que dimensión el algoritmo de fuerza bruta deja de ser útil?\n",
        "R: Se identificó que la matriz (11x11) es la más grande que el algoritmo de fuerza bruta pudo manejar en Google Colaboratory. A partir de 12 se utiliza más memoria RAM de la disponible y el notebook marca error.\n",
        "####-¿Hay algún valor a partir del cual el algoritmo de ramificación y poda deja de ser una opción válida?\n",
        "R: Si, se identificó que a partir de una matriz (21 x 21) el algoritmo deja de ser una opción válida debido al tiempo que toma. El algoritmo tomo 37minutos en correr una matriz de 18x18 y tardo 5hrs en correr una de 20x20."
      ]
    }
  ]
}