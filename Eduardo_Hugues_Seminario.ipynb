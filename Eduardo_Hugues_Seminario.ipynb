{
  "nbformat": 4,
  "nbformat_minor": 0,
  "metadata": {
    "colab": {
      "name": "Eduardo Hugues-Seminario.ipynb",
      "provenance": [],
      "collapsed_sections": [],
      "machine_shape": "hm",
      "include_colab_link": true
    },
    "kernelspec": {
      "name": "python3",
      "display_name": "Python 3"
    }
  },
  "cells": [
    {
      "cell_type": "markdown",
      "metadata": {
        "id": "view-in-github",
        "colab_type": "text"
      },
      "source": [
        "<a href=\"https://colab.research.google.com/github/Eduardohg94/03MAIR---Algoritmos-de-Optimizacion---2019/blob/master/Eduardo_Hugues_Seminario.ipynb\" target=\"_parent\"><img src=\"https://colab.research.google.com/assets/colab-badge.svg\" alt=\"Open In Colab\"/></a>"
      ]
    },
    {
      "cell_type": "markdown",
      "metadata": {
        "id": "hVbXYX-RfPWh",
        "colab_type": "text"
      },
      "source": [
        "# Algoritmos de optimización - Seminario<br>\n",
        "Eduardo Hugues:   <br>\n",
        "Url: https://github.com/.../03MAIR---Algoritmos-de-Optimizacion---2019/tree/master/SEMINARIO<br>\n",
        "Problema:\n",
        "> 1. Elección de grupos de población homogéneos <br>\n",
        ">2. Organizar los horarios de partidos de La Liga<br>\n",
        ">3. Combinar cifras y operaciones\n",
        "\n",
        "Descripción del problema:(copiar enunciado)\n",
        "\n",
        "....\n",
        "\n",
        "(*) La respuesta es obligatoria\n",
        "\n",
        "\n",
        "\n",
        "\n",
        "\n",
        "                                        "
      ]
    },
    {
      "cell_type": "markdown",
      "metadata": {
        "id": "gy3CfsmngA3c",
        "colab_type": "text"
      },
      "source": [
        "Respuesta"
      ]
    },
    {
      "cell_type": "markdown",
      "metadata": {
        "id": "TAp3X_F-gCaZ",
        "colab_type": "text"
      },
      "source": [
        "**Elección de grupos de población homogéneos**"
      ]
    },
    {
      "cell_type": "markdown",
      "metadata": {
        "id": "dzynfVJahHoY",
        "colab_type": "text"
      },
      "source": [
        "Modelo para el espacio de soluciones<br>\n",
        "(*) ¿Cual es la estructura de datos que mejor se adapta al problema? Argumentalo.(Es posible que hayas elegido una al principio y veas la necesidad de cambiar, arguentalo)\n"
      ]
    },
    {
      "cell_type": "markdown",
      "metadata": {
        "id": "xFIJrOwKi2Ti",
        "colab_type": "text"
      },
      "source": [
        "Respuesta"
      ]
    },
    {
      "cell_type": "code",
      "metadata": {
        "id": "38c-7-ejhJmA",
        "colab_type": "code",
        "colab": {}
      },
      "source": [
        "Se definió utilizar una matriz de 9x(n/9) siendo cada fila un grupo\n",
        "Esta es una forma facil de visualizar la información al igual que es una forma eficiente de calcular la función objetivo"
      ],
      "execution_count": 0,
      "outputs": []
    },
    {
      "cell_type": "markdown",
      "metadata": {
        "id": "7Z9U2W7bi-XS",
        "colab_type": "text"
      },
      "source": [
        "Según el modelo para el espacio de soluciones<br>\n",
        "(*)¿Cual es la función objetivo?\n",
        "\n",
        "\n",
        "(*)¿Es un problema de maximización o minimización?"
      ]
    },
    {
      "cell_type": "markdown",
      "metadata": {
        "id": "wzkx-vRwgHpe",
        "colab_type": "text"
      },
      "source": [
        "Respuesta"
      ]
    },
    {
      "cell_type": "markdown",
      "metadata": {
        "id": "fPIIOnnXgIxK",
        "colab_type": "text"
      },
      "source": [
        "\n",
        "**MIN VAR(AVG(gpo_1) + AVG(gpo_2) + AVG(gpo_3) + AVG(gpo_4) + AVG(gpo_5) + AVG(gpo_6) + AVG(gpo_7) + AVG(gpo_8) + AVG(gpo_9))**\n",
        "\n",
        "**Es un problema de minimización**"
      ]
    },
    {
      "cell_type": "markdown",
      "metadata": {
        "id": "rlnTYgY1j6I2",
        "colab_type": "text"
      },
      "source": [
        "Diseña un algoritmo para resolver el problema por fuerza bruta"
      ]
    },
    {
      "cell_type": "code",
      "metadata": {
        "id": "fZ59Rd7cWwqn",
        "colab_type": "code",
        "colab": {}
      },
      "source": [
        "#librerias a utilizar en el algoritmo\n",
        "import numpy as np\n",
        "import itertools as it"
      ],
      "execution_count": 0,
      "outputs": []
    },
    {
      "cell_type": "code",
      "metadata": {
        "id": "du78O6fPgl1F",
        "colab_type": "code",
        "colab": {}
      },
      "source": [
        "#Función de evaluación de cada escenario\n",
        "def valor(grupos_vacas):\n",
        "  varianza = 0\n",
        "  col = len(grupos_vacas)//9\n",
        "  matriz_grupos = np.zeros((9,len(grupo_vacas)//9))\n",
        "  \n",
        "  for i in range(0,9): \n",
        "    for j in range(0,col):\n",
        "      matriz_grupos[i,j] = grupos_vacas[j + i*col]\n",
        "  valor_temporal = np.var(np.mean(matriz_grupos,1))\n",
        "  return(valor_temporal)"
      ],
      "execution_count": 0,
      "outputs": []
    },
    {
      "cell_type": "code",
      "metadata": {
        "id": "1Ohey1RgndxK",
        "colab_type": "code",
        "colab": {}
      },
      "source": [
        "#Función para separa vacas por sexo\n",
        "def grupo_sexo(peso,sexo):\n",
        "  grupo_machos=[]\n",
        "  grupo_hembras=[]\n",
        "  for i in range(0,len(peso)):\n",
        "    if sexo[i] == 0:\n",
        "      grupo_machos.append(peso[i])\n",
        "    else:\n",
        "      grupo_hembras.append(peso[i])\n",
        "  return grupo_hembras, grupo_machos"
      ],
      "execution_count": 0,
      "outputs": []
    },
    {
      "cell_type": "code",
      "metadata": {
        "id": "L6b7QiPAWFhb",
        "colab_type": "code",
        "colab": {}
      },
      "source": [
        "#Definimos algorítmo de fuerza bruta\n",
        "def fuerza_bruta(peso,sexo):\n",
        "  mejor_valor = 10e10\n",
        "  mejor_solucion = ''\n",
        "  \n",
        "  #separamos las vacas por sexo e identificamos el tamaño de los grupos\n",
        "  grupo_hembras, grupo_machos = grupo_sexo(peso,sexo)\n",
        "  size = max(len(grupo_hembras)//9,len(grupo_machos)//9)\n",
        "  \n",
        "  for S in list(it.permutations(range(len(peso)))):\n",
        "    valor_temp = valor(S)\n",
        "    if valor_temp < mejor_valor:\n",
        "      mejor_solucion = S\n",
        "      mejor_valor = valor_temp\n",
        "  print(\"La mejor solución es:\", mejor_solucion)\n",
        "  \n",
        "fuerza_bruta(peso,sexo)"
      ],
      "execution_count": 0,
      "outputs": []
    },
    {
      "cell_type": "markdown",
      "metadata": {
        "id": "tgrnsC2nkFa8",
        "colab_type": "text"
      },
      "source": [
        "Calcula la complejidad del algoritmo por fuerza bruta"
      ]
    },
    {
      "cell_type": "markdown",
      "metadata": {
        "id": "9eUd3xwckP68",
        "colab_type": "text"
      },
      "source": [
        "Respuesta"
      ]
    },
    {
      "cell_type": "markdown",
      "metadata": {
        "id": "pUy-BrQUywEi",
        "colab_type": "text"
      },
      "source": [
        "**El algoritmo de fuerza bruta tiene una complejidad logarítmica**"
      ]
    },
    {
      "cell_type": "markdown",
      "metadata": {
        "id": "txbrmLmskReM",
        "colab_type": "text"
      },
      "source": [
        "(*)Diseña un algoritmo que mejore la complejidad del algortimo por fuerza bruta. Argumenta porque crees que mejora el algoritmo por fuerza bruta"
      ]
    },
    {
      "cell_type": "markdown",
      "metadata": {
        "id": "hLrVwt5QkZPD",
        "colab_type": "text"
      },
      "source": [
        "Respuesta"
      ]
    },
    {
      "cell_type": "code",
      "metadata": {
        "id": "lwwFQ77JMBcJ",
        "colab_type": "code",
        "colab": {}
      },
      "source": [
        "###Seudocodigo\n",
        "\n",
        "##se toma el grupo de vacas y se separa por sexo\n",
        "##se identifica, de acuerdo al menor grupo de vacas (hembras o machos), el tamaño que tendra cada agrupación de estudio\n",
        "\n",
        "##se toma al grupo más pequeño y se comienzan a realizar las agrupaciones de estudio\n",
        "  ##De manera aleatoria realiza la primera propuesta de agrupaciones de vacas (en caso de que sobren vacas se genera un grupo de sobrantes)\n",
        "  \n",
        "  ##De manera recursiva se evalua el promedio de cada una de las agrupaciones de estudio y se identifica al máximo y al mínimo\n",
        "   ##Se toma la agrupación de máximo y se identifica la vaca más pesada\n",
        "   ##Se toma la agrupación de mínimo y se identifica la vaca menos pesada\n",
        "   ##Se procede a generar un intercambio entre estas vacas\n",
        "   ##Se evalua la media de cada grupo y se evalua la varianza entre estas medias\n",
        "   ##El proceso termina si por 10 iteraciones seguidas no se tiene una mejora en la disminución de la varianza\n",
        "    \n",
        " ##El proceso se repite con el grupo mayor (machos o hembras) con la variante que estos grupos se evaluan incluyendo a los grupos ya definidos para el grupo menor\n",
        "\n",
        "\n",
        "##Se toma el mejor escenario y se despliega la matriz"
      ],
      "execution_count": 0,
      "outputs": []
    },
    {
      "cell_type": "code",
      "metadata": {
        "id": "m1eyM21Vkabg",
        "colab_type": "code",
        "colab": {}
      },
      "source": [
        "def recursivo(crear_ganado(20)):\n",
        "  \n",
        "  ##separamos las vacas por sexo e identificamos el tamaño de los grupos\n",
        "  grupo_hembras, grupo_machos = grupo_sexo(peso,sexo)\n",
        "  ##se identifica, de acuerdo al menor grupo de vacas (hembras o machos), el tamaño que tendra cada agrupación de estudio\n",
        "  size = max(len(grupo_hembras)//9,len(grupo_machos)//9)\n",
        "  \n",
        "  ##se toma al grupo más pequeño y se comienzan a realizar las agrupaciones de estudio\n",
        "  ##De manera aleatoria realiza la primera propuesta de agrupaciones de vacas (en caso de que sobren vacas se genera un grupo de sobrantes)\n",
        "  if len(grupo_hembras) < len(grupo_machos):\n",
        "    for \n",
        "  \n",
        "  for i in range(0,10):\n",
        "    "
      ],
      "execution_count": 0,
      "outputs": []
    },
    {
      "cell_type": "code",
      "metadata": {
        "id": "Pnazdsm08ZZn",
        "colab_type": "code",
        "colab": {}
      },
      "source": [
        "#Formula para crear grupos\n",
        "def agrupar_vacas(grupos_vacas,size):\n",
        "  varianza = 0\n",
        "  col = len(grupos_vacas)//9\n",
        "  matriz_grupos = np.zeros((9,len(grupo_vacas)//9))\n",
        "  \n",
        "  for i in range(0,9): \n",
        "    for j in range(0,col):\n",
        "      matriz_grupos[i,j] = grupos_vacas[j + i*col]"
      ],
      "execution_count": 0,
      "outputs": []
    },
    {
      "cell_type": "markdown",
      "metadata": {
        "id": "eGDB4K6uk1iN",
        "colab_type": "text"
      },
      "source": [
        "(*)Calcula la complejidad del algoritmo "
      ]
    },
    {
      "cell_type": "markdown",
      "metadata": {
        "id": "NhpTh_BPk1ms",
        "colab_type": "text"
      },
      "source": [
        "Respuesta"
      ]
    },
    {
      "cell_type": "markdown",
      "metadata": {
        "id": "3M6QjTsSkmYe",
        "colab_type": "text"
      },
      "source": [
        "Según el problema (y tenga sentido), diseña un juego de datos de entrada aleatorios"
      ]
    },
    {
      "cell_type": "markdown",
      "metadata": {
        "id": "Jc3_OlyNkvjZ",
        "colab_type": "text"
      },
      "source": [
        "Respuesta"
      ]
    },
    {
      "cell_type": "code",
      "metadata": {
        "id": "sJ-N2etjkyWc",
        "colab_type": "code",
        "colab": {}
      },
      "source": [
        "#se crea una población de vacas con pesos random siguiendo una distribución normal y sexo aleatorio\n",
        "def crear_ganado(cantidad):\n",
        "  import numpy as np\n",
        "  import pandas as pd\n",
        "  peso = np.random.normal(35, 3.1, cantidad)\n",
        "  sexo = np.random.randint(2, size=cantidad)\n",
        "\n",
        "  return peso,sexo, pd.DataFrame({'peso': peso,'sexo': sexo})\n",
        "\n",
        "peso, sexo, ganado_detalle = crear_ganado(30)\n",
        "\n",
        "print(ganado_detalle)\n"
      ],
      "execution_count": 0,
      "outputs": []
    },
    {
      "cell_type": "markdown",
      "metadata": {
        "id": "zy5ZROmjlGo1",
        "colab_type": "text"
      },
      "source": [
        "Aplica el algoritmo al juego de datos generado"
      ]
    },
    {
      "cell_type": "markdown",
      "metadata": {
        "id": "_Cmj-PVylMsa",
        "colab_type": "text"
      },
      "source": [
        "Respuesta"
      ]
    },
    {
      "cell_type": "code",
      "metadata": {
        "id": "Jkx8GeiYlUz1",
        "colab_type": "code",
        "colab": {}
      },
      "source": [
        "#probamos el algorítmo con 250 vacas\n",
        "recursivo(crear_ganado(250))"
      ],
      "execution_count": 0,
      "outputs": []
    },
    {
      "cell_type": "markdown",
      "metadata": {
        "colab_type": "text",
        "id": "eTFWUJQrtGcv"
      },
      "source": [
        "Enumera las referencias que has utilizado(si ha sido necesario) para llevar a cabo el trabajo"
      ]
    },
    {
      "cell_type": "markdown",
      "metadata": {
        "id": "YKQ_mRBttWsP",
        "colab_type": "text"
      },
      "source": [
        "Respuesta"
      ]
    },
    {
      "cell_type": "markdown",
      "metadata": {
        "id": "mqf0m22hgSnF",
        "colab_type": "text"
      },
      "source": [
        "Stack Overflow\n"
      ]
    },
    {
      "cell_type": "markdown",
      "metadata": {
        "id": "kAkDPUyRtYyH",
        "colab_type": "text"
      },
      "source": [
        "Describe brevemente las lineas de como crees que es posible avanzar en el estudio del problema. Ten en cuenta incluso posibles variaciones del problema y/o variaciones al alza del tamaño"
      ]
    },
    {
      "cell_type": "markdown",
      "metadata": {
        "id": "IE0uZmo-tZu-",
        "colab_type": "text"
      },
      "source": [
        "Respuesta"
      ]
    },
    {
      "cell_type": "markdown",
      "metadata": {
        "id": "pSDwCZlxgTuK",
        "colab_type": "text"
      },
      "source": [
        ""
      ]
    }
  ]
}