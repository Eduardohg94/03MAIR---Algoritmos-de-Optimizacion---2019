{
  "nbformat": 4,
  "nbformat_minor": 0,
  "metadata": {
    "colab": {
      "name": "Eduardo Hugues-AG01.ipynb",
      "version": "0.3.2",
      "provenance": [],
      "include_colab_link": true
    },
    "kernelspec": {
      "name": "python3",
      "display_name": "Python 3"
    }
  },
  "cells": [
    {
      "cell_type": "markdown",
      "metadata": {
        "id": "view-in-github",
        "colab_type": "text"
      },
      "source": [
        "<a href=\"https://colab.research.google.com/github/Eduardohg94/03MAIR---Algoritmos-de-Optimizacion---2019/blob/master/Eduardo_Hugues_AG01.ipynb\" target=\"_parent\"><img src=\"https://colab.research.google.com/assets/colab-badge.svg\" alt=\"Open In Colab\"/></a>"
      ]
    },
    {
      "cell_type": "markdown",
      "metadata": {
        "id": "zsIA3LwFK8Eu",
        "colab_type": "text"
      },
      "source": [
        "Actividad Guiada 1 - AG1\n",
        "Eduardo Hugues\n",
        "\n",
        "https://colab.research.google.com/drive/1Q4FudtUnpT-ifCyMye00695OP896PMgz\n",
        "https://github.com/Eduardohg94/03MAIR---Algoritmos-de-Optimizacion---2019\n"
      ]
    },
    {
      "cell_type": "code",
      "metadata": {
        "id": "4GpUYK7gL-h1",
        "colab_type": "code",
        "colab": {}
      },
      "source": [
        "#wraps nos permite utilizar los decoradores\n",
        "from functools import wraps\n",
        "#time nos permite utilizar el reloj del procesador que estamos utilizando\n",
        "from time import time\n",
        "\n",
        "def calcular_tiempo(f):\n",
        "  #indicamos que es un decorador con @\n",
        "  @wraps(f)\n",
        "  def cronometro(*args, **kwargs):\n",
        "    t_inicial = time()\n",
        "    salida = f(*args, **kwargs)\n",
        "    t_final = time()\n",
        "    print('Tiempo transcurrido (en segundos): {}'.format(t_final - t_inicial))\n",
        "    return salida\n",
        "  return cronometro\n",
        "\n",
        "import random\n",
        "import numpy as np"
      ],
      "execution_count": 0,
      "outputs": []
    },
    {
      "cell_type": "code",
      "metadata": {
        "id": "dK5tszfpNemy",
        "colab_type": "code",
        "colab": {
          "base_uri": "https://localhost:8080/",
          "height": 70
        },
        "outputId": "8b9f6b34-a579-488d-f646-71682119e292"
      },
      "source": [
        "#Algorítmo divide y venceras quick sort\n",
        "A = [9187, 244, 4054, 9222, 8373, 4993, 5265, 5470, 4519, 7182, 2035, 3506, 4337, 7580, 2554, 2824, 8357, 4447, 7379]\n",
        "A = list(map(lambda x: random.randrange(1,10000),range(1,300)))\n",
        "\n",
        "def quick_sort(A):\n",
        "  if len(A) == 1:\n",
        "    return A\n",
        "  \n",
        "  if len(A) == 2:\n",
        "    return [min(A),max(A)]\n",
        "  \n",
        "  #mejorar pivote\n",
        "  pivote = (A[0]+A[1]+A[2])/3\n",
        "  #pivote = np.median(A)\n",
        "  \n",
        "  IZQ = []\n",
        "  DER = []\n",
        "  for n in A:\n",
        "    if n < pivote:\n",
        "      IZQ.append(n)\n",
        "    else:\n",
        "      DER.append(n)\n",
        "      \n",
        "  return quick_sort(IZQ) + quick_sort(DER)\n",
        "\n",
        "@calcular_tiempo\n",
        "def ordenar(A):\n",
        "  print(quick_sort(A))\n",
        "\n",
        "ordenar(A)"
      ],
      "execution_count": 5,
      "outputs": [
        {
          "output_type": "stream",
          "text": [
            "[9, 13, 77, 91, 156, 212, 300, 332, 369, 376, 409, 409, 432, 456, 467, 478, 603, 607, 645, 686, 731, 753, 773, 821, 858, 897, 926, 933, 1016, 1027, 1030, 1129, 1170, 1217, 1233, 1253, 1254, 1261, 1275, 1293, 1365, 1380, 1407, 1412, 1439, 1456, 1466, 1510, 1586, 1595, 1659, 1737, 1799, 1830, 1882, 2020, 2025, 2031, 2062, 2082, 2091, 2123, 2136, 2188, 2333, 2381, 2586, 2592, 2620, 2634, 2639, 2721, 2724, 2743, 2807, 2825, 2846, 2921, 2992, 3016, 3023, 3100, 3118, 3185, 3227, 3267, 3269, 3282, 3296, 3306, 3311, 3326, 3427, 3432, 3449, 3471, 3575, 3610, 3697, 3724, 3730, 3732, 3733, 3743, 3746, 3764, 3779, 3798, 3799, 3799, 3824, 3835, 3849, 3868, 3885, 3910, 3930, 3948, 3988, 4021, 4036, 4038, 4066, 4084, 4086, 4121, 4149, 4260, 4266, 4279, 4349, 4399, 4476, 4476, 4507, 4536, 4583, 4603, 4642, 4661, 4700, 4717, 4750, 4758, 4759, 4792, 4818, 5046, 5068, 5093, 5116, 5147, 5242, 5281, 5293, 5316, 5329, 5351, 5352, 5460, 5531, 5538, 5587, 5589, 5736, 5737, 5804, 5810, 5817, 5829, 5833, 5839, 5892, 5941, 6030, 6178, 6186, 6194, 6261, 6276, 6288, 6324, 6340, 6354, 6363, 6423, 6437, 6446, 6471, 6579, 6652, 6676, 6680, 6717, 6738, 6803, 6859, 6876, 6888, 6897, 6898, 6924, 6934, 6995, 7004, 7011, 7022, 7024, 7038, 7054, 7095, 7138, 7142, 7156, 7160, 7183, 7210, 7221, 7232, 7255, 7288, 7379, 7488, 7507, 7553, 7594, 7621, 7635, 7635, 7648, 7652, 7660, 7665, 7724, 7730, 7737, 7739, 7743, 7744, 7771, 7856, 7859, 7871, 7906, 7910, 8032, 8034, 8054, 8062, 8184, 8230, 8289, 8302, 8317, 8412, 8452, 8515, 8560, 8571, 8592, 8592, 8610, 8662, 8670, 8675, 8680, 8688, 8697, 8701, 8710, 8744, 8832, 8867, 8868, 8922, 8970, 9010, 9033, 9122, 9130, 9148, 9156, 9217, 9256, 9258, 9261, 9273, 9327, 9393, 9399, 9657, 9663, 9680, 9725, 9812, 9823, 9908, 9974, 9974]\n",
            "Tiempo transcurrido (en segundos): 0.0015044212341308594\n"
          ],
          "name": "stdout"
        }
      ]
    },
    {
      "cell_type": "code",
      "metadata": {
        "id": "K5T3xUWhVMDE",
        "colab_type": "code",
        "colab": {
          "base_uri": "https://localhost:8080/",
          "height": 50
        },
        "outputId": "ebed94ce-f7c1-4fc8-c1d9-866538e507bb"
      },
      "source": [
        "### Algoritmo voráz para la devolución de cambio mínimo\n",
        "@calcular_tiempo\n",
        "def dev_cambio(monedas,cambio):\n",
        "  solucion = [0 for i in range(len(monedas))]\n",
        "  quick_sort(monedas)\n",
        "  \n",
        "  for i in range(len(monedas)):\n",
        "    num_monedas = cambio//monedas[i]\n",
        "    solucion[i] = num_monedas\n",
        "    cambio = cambio%monedas[i]\n",
        "    #print(str(int(num_monedas))+ \" monedas de \" + str(monedas[i]))\n",
        "  return(solucion)\n",
        "\n",
        "monedas=[25,10,5,1]\n",
        "print(dev_cambio(monedas,23))\n"
      ],
      "execution_count": 51,
      "outputs": [
        {
          "output_type": "stream",
          "text": [
            "Tiempo transcurrido (en segundos): 1.5974044799804688e-05\n",
            "[0, 2, 0, 3]\n"
          ],
          "name": "stdout"
        }
      ]
    },
    {
      "cell_type": "code",
      "metadata": {
        "id": "XcUl_r-aaHcX",
        "colab_type": "code",
        "colab": {
          "base_uri": "https://localhost:8080/",
          "height": 101
        },
        "outputId": "c1537323-b832-4377-de25-cfd1bbde11df"
      },
      "source": [
        "#Algorítmo con vuelta atras para el problema de las N-Reinas\n",
        "def es_prometedora(solucion, etapa):\n",
        "  for i in range(etapa+1):\n",
        "    if solucion.count(solucion[i])> 1:\n",
        "      return False\n",
        "     \n",
        "    for j in range(i+1, etapa+1):\n",
        "      if abs(i-j) == abs(solucion[i]-solucion[j]):\n",
        "        return False\n",
        "      \n",
        "  return True\n",
        "\n",
        "def reinas(N, solucion=[], etapa=0):\n",
        "  if len(solucion) == 0:\n",
        "    solucion=[0 for i in range(N)]\n",
        "  \n",
        "  for i in range(1, N+1):\n",
        "    solucion[etapa] = i\n",
        "    \n",
        "    if es_prometedora(solucion, etapa):\n",
        "      if etapa == N-1:\n",
        "        print(\"La solución es \", solucion)\n",
        "      else:\n",
        "        reinas(N, solucion, etapa+1)\n",
        "      \n",
        "    else:\n",
        "      None\n",
        "\n",
        "reinas(7)"
      ],
      "execution_count": 76,
      "outputs": [
        {
          "output_type": "stream",
          "text": [
            "La solución es  [1, 5, 2, 6, 3, 7, 4]\n",
            "La solución es  [2, 4, 6, 1, 3, 5, 7]\n",
            "La solución es  [3, 6, 2, 5, 1, 4, 7]\n",
            "La solución es  [4, 1, 5, 2, 6, 3, 7]\n",
            "La solución es  [5, 3, 1, 6, 4, 2, 7]\n"
          ],
          "name": "stdout"
        }
      ]
    }
  ]
}