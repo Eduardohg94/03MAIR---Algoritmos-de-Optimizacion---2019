{
  "nbformat": 4,
  "nbformat_minor": 0,
  "metadata": {
    "colab": {
      "name": "Eduardo Hugues-AG03.ipynb",
      "provenance": [],
      "include_colab_link": true
    },
    "kernelspec": {
      "name": "python3",
      "display_name": "Python 3"
    }
  },
  "cells": [
    {
      "cell_type": "markdown",
      "metadata": {
        "id": "view-in-github",
        "colab_type": "text"
      },
      "source": [
        "<a href=\"https://colab.research.google.com/github/Eduardohg94/03MAIR---Algoritmos-de-Optimizacion---2019/blob/master/Eduardo_Hugues_AG03.ipynb\" target=\"_parent\"><img src=\"https://colab.research.google.com/assets/colab-badge.svg\" alt=\"Open In Colab\"/></a>"
      ]
    },
    {
      "cell_type": "code",
      "metadata": {
        "id": "esRI82kZIqPn",
        "colab_type": "code",
        "colab": {}
      },
      "source": [
        "#Nombre: Eduardo Hugues\n",
        "\n",
        "#URL: https://colab.research.google.com/drive/13MJP6pK_z_7T2e3_tXrW0rF3MNZL_hGB\n",
        "\n",
        "#URL: "
      ],
      "execution_count": 0,
      "outputs": []
    },
    {
      "cell_type": "code",
      "metadata": {
        "id": "2wNQfTqCI227",
        "colab_type": "code",
        "colab": {}
      },
      "source": [
        "!pip install request"
      ],
      "execution_count": 0,
      "outputs": []
    },
    {
      "cell_type": "code",
      "metadata": {
        "id": "IgbYwvoiJ7ue",
        "colab_type": "code",
        "colab": {
          "base_uri": "https://localhost:8080/",
          "height": 34
        },
        "outputId": "be746edb-970e-4b65-e3a7-7652f64756f1"
      },
      "source": [
        "import urllib.request\n",
        "file = 'swiss42.tsp'\n",
        "\n",
        "urllib.request.urlretrieve('http://elib.zib.de/pub/mp-testdata/tsp/tsplib/tsp/swiss42.tsp',file)"
      ],
      "execution_count": 161,
      "outputs": [
        {
          "output_type": "execute_result",
          "data": {
            "text/plain": [
              "('swiss42.tsp', <http.client.HTTPMessage at 0x7fed9d322b38>)"
            ]
          },
          "metadata": {
            "tags": []
          },
          "execution_count": 161
        }
      ]
    },
    {
      "cell_type": "code",
      "metadata": {
        "id": "UERitRUfLUDL",
        "colab_type": "code",
        "colab": {}
      },
      "source": [
        "!pip install tsplib95"
      ],
      "execution_count": 0,
      "outputs": []
    },
    {
      "cell_type": "code",
      "metadata": {
        "id": "qKDzvtfqLewd",
        "colab_type": "code",
        "colab": {}
      },
      "source": [
        "import tsplib95\n",
        "import random\n",
        "from math import e"
      ],
      "execution_count": 0,
      "outputs": []
    },
    {
      "cell_type": "code",
      "metadata": {
        "id": "gPCyzwkKLqiS",
        "colab_type": "code",
        "colab": {
          "base_uri": "https://localhost:8080/",
          "height": 34
        },
        "outputId": "8e0acad1-3280-40b2-a693-79840ee8d99d"
      },
      "source": [
        "problem = tsplib95.load_problem(file)\n",
        "\n",
        "Nodos = list(problem.get_nodes())\n",
        "\n",
        "list(problem.get_nodes())\n",
        "list(problem.get_edges())\n",
        "\n",
        "problem.wfunc(0,3)"
      ],
      "execution_count": 162,
      "outputs": [
        {
          "output_type": "execute_result",
          "data": {
            "text/plain": [
              "23"
            ]
          },
          "metadata": {
            "tags": []
          },
          "execution_count": 162
        }
      ]
    },
    {
      "cell_type": "code",
      "metadata": {
        "id": "Q1xMiQAoLqhd",
        "colab_type": "code",
        "colab": {}
      },
      "source": [
        "def distancia(a,b,problem):\n",
        "  return problem.wfunc(a,b)\n",
        "\n",
        "def crear_solucion(Nodos): \n",
        "  solucion = [0]\n",
        "  for i in range(len(Nodos)-1):\n",
        "    solucion = solucion + [random.choice(list(set(Nodos) - set({0}) - set(solucion)))]\n",
        "  return solucion \n",
        "\n",
        "def distancia_total(solucion, problem):\n",
        "  distancia_ret = 0\n",
        "  for i in range(len(solucion)-1):\n",
        "    distancia_ret += distancia(solucion[i],solucion[i+1],problem) \n",
        "  return distancia_ret + distancia(solucion[len(solucion)-1],solucion[0],problem)\n",
        "    \n",
        "solucion_prueba = crear_solucion(Nodos)\n",
        "print(distancia_total(solucion_prueba,problem),solucion_prueba)"
      ],
      "execution_count": 0,
      "outputs": []
    },
    {
      "cell_type": "code",
      "metadata": {
        "id": "OWEQ82HiSNiw",
        "colab_type": "code",
        "colab": {}
      },
      "source": [
        "# busqueda aleatoria\n",
        "\n",
        "def busqueda_aleatoria(problem, N):\n",
        "  Nodos = list(problem.get_nodes())\n",
        "  \n",
        "  mejor_solucion = []\n",
        "  mejor_distancia = 10e10\n",
        "  \n",
        "  for i in range(N):\n",
        "    solucion = crear_solucion(Nodos)\n",
        "    distancia_solucion = distancia_total(solucion, problem)\n",
        "  \n",
        "  if distancia_solucion < mejor_distancia:\n",
        "    mejor_solucion = solucion\n",
        "    mejor_distancia = distancia_solucion\n",
        "    \n",
        "  print(\"La mejor solución encontrada es \", end=\"\")\n",
        "  print(solucion)\n",
        "  print(\"con una distancia total de \", end=\"\")\n",
        "  print(mejor_distancia)\n",
        "  return mejor_solucion\n",
        "\n",
        "busqueda_aleatoria(problem,5000)"
      ],
      "execution_count": 0,
      "outputs": []
    },
    {
      "cell_type": "code",
      "metadata": {
        "id": "WVBS2XHbUzrH",
        "colab_type": "code",
        "colab": {}
      },
      "source": [
        "#busqueda local, generador de vecinos"
      ],
      "execution_count": 0,
      "outputs": []
    },
    {
      "cell_type": "code",
      "metadata": {
        "id": "Be1OE8GnU2IZ",
        "colab_type": "code",
        "colab": {}
      },
      "source": [
        "def generar_vecina(solucion,problem):\n",
        "  mejor_solucion = []\n",
        "  mejor_distancia = 10e10\n",
        "  for i in range(1,len(solucion)-1):\n",
        "    for j in range(i+1, len(solucion)):\n",
        "      vecina = solucion[:i]+[solucion[j]] + solucion[i+1:j]+[solucion[i]]+solucion[j+1:]\n",
        "      distancia_vecina = distancia_total(vecina,problem)\n",
        "      if distancia_vecina <= mejor_distancia:\n",
        "        mejor_distancia = distancia_vecina\n",
        "        mejor_solucion = vecina\n",
        "  return mejor_solucion"
      ],
      "execution_count": 0,
      "outputs": []
    },
    {
      "cell_type": "code",
      "metadata": {
        "id": "Kjv-UILuWScG",
        "colab_type": "code",
        "colab": {}
      },
      "source": [
        "def busqueda_local(problem,N,inicios=1):\n",
        "  mejor_solucion = []\n",
        "  mejor_distancia = 10e10\n",
        "  \n",
        "  Nodos = list(problem.get_nodes())\n",
        "  \n",
        "  solucion_referencia = crear_solucion(Nodos)\n",
        "  \n",
        "#Se agrega un loop en el cual el algoritmo encuentra otro estado inicial aleatorio buscando así evitar terminar con un mínimo local como solución\n",
        "  for j in range(0,inicios):\n",
        "    for i in range(N):\n",
        "      vecina = generar_vecina(solucion_referencia,problem)\n",
        "      distancia_vecina = distancia_total(vecina,problem)\n",
        "      if distancia_vecina < mejor_distancia:\n",
        "        mejor_solucion = vecina\n",
        "        mejor_distancia = distancia_vecina\n",
        "   \n",
        "      solucion_referencia = mejor_solucion\n",
        "  \n",
        "  print(distancia_total(mejor_solucion,problem))\n",
        "  return mejor_solucion\n",
        "\n",
        "busqueda_local(problem,10,3)"
      ],
      "execution_count": 0,
      "outputs": []
    },
    {
      "cell_type": "code",
      "metadata": {
        "id": "UJsirxmkbjg-",
        "colab_type": "code",
        "colab": {}
      },
      "source": [
        "def probabilidad(T,d):\n",
        "  r=random.random()\n",
        "  \n",
        "  if r >= (e**(-1*d)/((T*5*18**(-5)))):\n",
        "    return True\n",
        "  else:\n",
        "    return False\n",
        "def bajar_temperatura(T):\n",
        "  return T*.9"
      ],
      "execution_count": 0,
      "outputs": []
    },
    {
      "cell_type": "code",
      "metadata": {
        "id": "BDcHsnxZcRj6",
        "colab_type": "code",
        "colab": {
          "base_uri": "https://localhost:8080/",
          "height": 34
        },
        "outputId": "7bb68a68-d798-4ee2-e0ad-da66c7309498"
      },
      "source": [
        "def recocido_simulado(problem,TEMPERATURA):\n",
        "  solucion_referencia = crear_solucion(Nodos)\n",
        "  \n",
        "  distancia_referencia = distancia_total(solucion_referencia, problem)\n",
        "  \n",
        "  mejor_solucion = []\n",
        "  mejor_distancia = 10e100\n",
        "  \n",
        "  while TEMPERATURA >1:\n",
        "    vecina = generar_vecina(solucion_referencia,problem)\n",
        "    distancia_vecina = distancia_total(vecina,problem)\n",
        "    \n",
        "    if distancia_vecina < mejor_distancia:\n",
        "      mejor_solucion = vecina\n",
        "      mejor_distancia = distancia_vecina\n",
        "    \n",
        "    if distancia_vecina < distancia_referencia or probabilidad(TEMPERATURA, abs(distancia_referencia - distancia_vecina)):\n",
        "      solucion_referencia = vecina\n",
        "      distancia_referencia = distancia_vecina\n",
        "      \n",
        "    TEMPERATURA = bajar_temperatura(TEMPERATURA)\n",
        "    \n",
        "    return(mejor_distancia)\n",
        "    \n",
        "recocido_simulado(problem,1000)      "
      ],
      "execution_count": 149,
      "outputs": [
        {
          "output_type": "execute_result",
          "data": {
            "text/plain": [
              "4913"
            ]
          },
          "metadata": {
            "tags": []
          },
          "execution_count": 149
        }
      ]
    },
    {
      "cell_type": "code",
      "metadata": {
        "id": "4mJziUlrgKK7",
        "colab_type": "code",
        "colab": {}
      },
      "source": [
        "def Add_Nodo(problem,H,T):\n",
        "  #Mejora:Establecer una función de probabilidad para añadir un nuevo nodo dependiendo\n",
        "  #de los nodos más cercanos y de las feromonas depositadas\n",
        "  Nodos = list(problem.get_nodes())\n",
        "  return random.choice(list(set(range(1,len(Nodos)))-set(H)))\n",
        "\n",
        "def Incrementa_Feromona(problem,T,H):\n",
        "  for i in range(len(H)-1):\n",
        "    T[H[i]][H[i+1]] += 1008/distancia_total(H,problem)\n",
        "  return T\n",
        "\n",
        "def Evaporar_Feromonas(T):\n",
        "  #Mejora: Podemos elegir diferentes funciones de evaporación según \n",
        "  T = [[max(T[i][j] - 0.3,1) for i in range(len(Nodos))] for j in range(len(Nodos))]\n",
        "  return(T)"
      ],
      "execution_count": 0,
      "outputs": []
    },
    {
      "cell_type": "code",
      "metadata": {
        "id": "x_OnZwrVeloX",
        "colab_type": "code",
        "colab": {
          "base_uri": "https://localhost:8080/",
          "height": 34
        },
        "outputId": "7237aba5-89f0-420b-b61f-3bf31b44251f"
      },
      "source": [
        "def hormigas(problem,N):\n",
        "  Nodos = list(problem.get_nodes())\n",
        "  Aristas = list(problem.get_edges())\n",
        "  \n",
        "  #Inicializar con valores diferentes según distintos criterios\n",
        "  T = [[ 1 for i in range (len(Nodos))]for i in range(len(Nodos))]\n",
        "  \n",
        "  Hormiga = [[0] for i in range(N)]\n",
        "  \n",
        "  for h in range(N):\n",
        "    for i in range(len(Nodos)-1):\n",
        "      Nuevo_Nodo = Add_Nodo(problem,Hormiga[h],T)\n",
        "    T = Incrementa_Feromona(problem, T, Hormiga[h])\n",
        "    \n",
        "    T = Evaporar_Feromonas(T)\n",
        "  mejor_solucion = []\n",
        "  mejor_distancia = 10e100\n",
        "  for h in range(N):\n",
        "    distancia_actual = distancia_total(Hormiga[h],problem)\n",
        "    if distancia_actual < mejor_distancia:\n",
        "      mejor_solucion = Hormiga[h]\n",
        "      mejor_distancia = distancia_actual\n",
        "  \n",
        "  return(mejor_solucion)    \n",
        "hormigas(problem,100)"
      ],
      "execution_count": 163,
      "outputs": [
        {
          "output_type": "execute_result",
          "data": {
            "text/plain": [
              "[0]"
            ]
          },
          "metadata": {
            "tags": []
          },
          "execution_count": 163
        }
      ]
    }
  ]
}